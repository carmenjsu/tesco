{
 "metadata": {
  "language_info": {
   "codemirror_mode": {
    "name": "ipython",
    "version": 3
   },
   "file_extension": ".py",
   "mimetype": "text/x-python",
   "name": "python",
   "nbconvert_exporter": "python",
   "pygments_lexer": "ipython3",
   "version": "3.7.5-final"
  },
  "orig_nbformat": 2,
  "kernelspec": {
   "name": "python3",
   "display_name": "Python 3.7.5 64-bit",
   "metadata": {
    "interpreter": {
     "hash": "c8bb34ad1b875d3161ce3302675f29779661d4a35ffbd1d17a3da28b3132449a"
    }
   }
  }
 },
 "nbformat": 4,
 "nbformat_minor": 2,
 "cells": [
  {
   "cell_type": "code",
   "execution_count": 3,
   "metadata": {},
   "outputs": [],
   "source": [
    "import matplotlib.animation as ani\n",
    "import matplotlib.pyplot as plt\n",
    "import numpy as np\n",
    "import pandas as pd"
   ]
  },
  {
   "cell_type": "code",
   "execution_count": 9,
   "metadata": {},
   "outputs": [
    {
     "output_type": "execute_result",
     "data": {
      "text/plain": [
       "     Bill    Perk  MasterCard-Perk  MasterCard-Tesco  Amex-Tesco  Amex-Perk  \\\n",
       "0       1    0.96             0.96              1.00        0.99       0.96   \n",
       "1       2    1.92             1.92              1.97        1.98       1.91   \n",
       "2       3    2.88             2.88              2.94        2.97       2.86   \n",
       "3       4    3.84             3.84              3.91        3.96       3.81   \n",
       "4       5    4.80             4.80              4.88        4.95       4.76   \n",
       "..    ...     ...              ...               ...         ...        ...   \n",
       "195   196  188.16           187.47            191.32      194.04     186.28   \n",
       "196   197  189.12           188.43            192.29      195.03     187.23   \n",
       "197   198  190.08           189.39            193.26      196.02     188.18   \n",
       "198   199  191.04           190.35            194.23      197.01     189.13   \n",
       "199   200  192.00           191.28            195.20      198.00     190.08   \n",
       "\n",
       "       Optimal  \n",
       "0         Perk  \n",
       "1    Amex-Perk  \n",
       "2    Amex-Perk  \n",
       "3    Amex-Perk  \n",
       "4    Amex-Perk  \n",
       "..         ...  \n",
       "195  Amex-Perk  \n",
       "196  Amex-Perk  \n",
       "197  Amex-Perk  \n",
       "198  Amex-Perk  \n",
       "199  Amex-Perk  \n",
       "\n",
       "[200 rows x 7 columns]"
      ],
      "text/html": "<div>\n<style scoped>\n    .dataframe tbody tr th:only-of-type {\n        vertical-align: middle;\n    }\n\n    .dataframe tbody tr th {\n        vertical-align: top;\n    }\n\n    .dataframe thead th {\n        text-align: right;\n    }\n</style>\n<table border=\"1\" class=\"dataframe\">\n  <thead>\n    <tr style=\"text-align: right;\">\n      <th></th>\n      <th>Bill</th>\n      <th>Perk</th>\n      <th>MasterCard-Perk</th>\n      <th>MasterCard-Tesco</th>\n      <th>Amex-Tesco</th>\n      <th>Amex-Perk</th>\n      <th>Optimal</th>\n    </tr>\n  </thead>\n  <tbody>\n    <tr>\n      <th>0</th>\n      <td>1</td>\n      <td>0.96</td>\n      <td>0.96</td>\n      <td>1.00</td>\n      <td>0.99</td>\n      <td>0.96</td>\n      <td>Perk</td>\n    </tr>\n    <tr>\n      <th>1</th>\n      <td>2</td>\n      <td>1.92</td>\n      <td>1.92</td>\n      <td>1.97</td>\n      <td>1.98</td>\n      <td>1.91</td>\n      <td>Amex-Perk</td>\n    </tr>\n    <tr>\n      <th>2</th>\n      <td>3</td>\n      <td>2.88</td>\n      <td>2.88</td>\n      <td>2.94</td>\n      <td>2.97</td>\n      <td>2.86</td>\n      <td>Amex-Perk</td>\n    </tr>\n    <tr>\n      <th>3</th>\n      <td>4</td>\n      <td>3.84</td>\n      <td>3.84</td>\n      <td>3.91</td>\n      <td>3.96</td>\n      <td>3.81</td>\n      <td>Amex-Perk</td>\n    </tr>\n    <tr>\n      <th>4</th>\n      <td>5</td>\n      <td>4.80</td>\n      <td>4.80</td>\n      <td>4.88</td>\n      <td>4.95</td>\n      <td>4.76</td>\n      <td>Amex-Perk</td>\n    </tr>\n    <tr>\n      <th>...</th>\n      <td>...</td>\n      <td>...</td>\n      <td>...</td>\n      <td>...</td>\n      <td>...</td>\n      <td>...</td>\n      <td>...</td>\n    </tr>\n    <tr>\n      <th>195</th>\n      <td>196</td>\n      <td>188.16</td>\n      <td>187.47</td>\n      <td>191.32</td>\n      <td>194.04</td>\n      <td>186.28</td>\n      <td>Amex-Perk</td>\n    </tr>\n    <tr>\n      <th>196</th>\n      <td>197</td>\n      <td>189.12</td>\n      <td>188.43</td>\n      <td>192.29</td>\n      <td>195.03</td>\n      <td>187.23</td>\n      <td>Amex-Perk</td>\n    </tr>\n    <tr>\n      <th>197</th>\n      <td>198</td>\n      <td>190.08</td>\n      <td>189.39</td>\n      <td>193.26</td>\n      <td>196.02</td>\n      <td>188.18</td>\n      <td>Amex-Perk</td>\n    </tr>\n    <tr>\n      <th>198</th>\n      <td>199</td>\n      <td>191.04</td>\n      <td>190.35</td>\n      <td>194.23</td>\n      <td>197.01</td>\n      <td>189.13</td>\n      <td>Amex-Perk</td>\n    </tr>\n    <tr>\n      <th>199</th>\n      <td>200</td>\n      <td>192.00</td>\n      <td>191.28</td>\n      <td>195.20</td>\n      <td>198.00</td>\n      <td>190.08</td>\n      <td>Amex-Perk</td>\n    </tr>\n  </tbody>\n</table>\n<p>200 rows × 7 columns</p>\n</div>"
     },
     "metadata": {},
     "execution_count": 9
    }
   ],
   "source": [
    "df = pd.DataFrame()\n",
    "df['Bill'] = pd.Series(np.array(list(range(1,201))))\n",
    "df['Perk'] = df['Bill'].apply(lambda x: x*0.96)\n",
    "df['MasterCard-Perk'] = df['Perk'].apply(lambda x: x-int(x/8)/100*3)\n",
    "df['MasterCard-Tesco'] = df['Bill'].apply(lambda x: x-int(x*4/5)/100*3)\n",
    "df['Amex-Tesco'] = df['Bill'].apply(lambda x: x-int(x*1)/100)\n",
    "df['Amex-Perk'] = df['Perk'].apply(lambda x: x-int(x*1)/100)\n",
    "df['Optimal'] = df.idxmin(axis=1)\n",
    "df"
   ]
  },
  {
   "cell_type": "code",
   "execution_count": 10,
   "metadata": {},
   "outputs": [],
   "source": [
    "df.to_csv('results.csv', index=False)"
   ]
  },
  {
   "cell_type": "code",
   "execution_count": null,
   "metadata": {},
   "outputs": [],
   "source": []
  }
 ]
}